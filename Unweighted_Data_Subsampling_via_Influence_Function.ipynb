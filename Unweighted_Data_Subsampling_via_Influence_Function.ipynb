{
  "cells": [
    {
      "cell_type": "markdown",
      "metadata": {
        "id": "Y8JsMrkCrYw3"
      },
      "source": [
        "## **Basic imports**"
      ]
    },
    {
      "cell_type": "code",
      "execution_count": 2,
      "metadata": {
        "id": "aIh_f_kK1G_g"
      },
      "outputs": [],
      "source": [
        "import numpy as np\n",
        "from scipy import sparse\n",
        "import sys\n",
        "from sklearn.linear_model import LogisticRegression\n",
        "from sklearn.metrics import log_loss, roc_auc_score\n",
        "\n",
        "sys.path.append(\"..\")\n",
        "from inverse_hvp import inverse_hvp_lr_newtonCG\n",
        "import argparse\n",
        "import time\n",
        "import pdb\n",
        "import os\n",
        "np.random.seed(0)"
      ]
    },
    {
      "cell_type": "markdown",
      "metadata": {
        "id": "3AdBdltarAyJ"
      },
      "source": [
        "# 1. **MNIST Dataset Load and Preprocessing the data in required format**"
      ]
    },
    {
      "cell_type": "code",
      "execution_count": 3,
      "metadata": {
        "id": "CV4aHBR41G_x"
      },
      "outputs": [],
      "source": [
        "# select the dataset used\n",
        "dataset_name = \"mnist\"\n",
        "# regularization parameter for Logistic Regression\n",
        "C = 0.1"
      ]
    },
    {
      "cell_type": "code",
      "execution_count": 4,
      "metadata": {
        "colab": {
          "base_uri": "https://localhost:8080/"
        },
        "id": "sOGuUulj3n4h",
        "outputId": "dd8d0905-9da0-40ab-ad1e-33d1352dbc8b"
      },
      "outputs": [
        {
          "name": "stdout",
          "output_type": "stream",
          "text": [
            "Extracting train-images-idx3-ubyte.gz\n",
            "Extracting train-labels-idx1-ubyte.gz\n",
            "Extracting t10k-images-idx3-ubyte.gz\n",
            "Extracting t10k-labels-idx1-ubyte.gz\n",
            "x_train, nr sample 8325, nr feature 784\n",
            "x_va,    nr sample 3569, nr feature 784\n",
            "x_te,    nr sample 2163, nr feature 784\n",
            "Tr: Pos 4395 Neg 3930\n",
            "Va: Pos 1784 Neg 1785\n",
            "Te: Pos 1135 Neg 1028\n"
          ]
        }
      ],
      "source": [
        "\n",
        "# tool box\n",
        "def load_mnist(validation_size = 5000):\n",
        "    import gzip\n",
        "    def _read32(bytestream):\n",
        "        dt = np.dtype(np.uint32).newbyteorder(\">\")\n",
        "        return np.frombuffer(bytestream.read(4),dtype=dt)[0]\n",
        "\n",
        "    def extract_images(f):\n",
        "        print(\"Extracting\",f.name)\n",
        "        with gzip.GzipFile(fileobj=f) as bytestream:\n",
        "            magic = _read32(bytestream)\n",
        "            num_images = _read32(bytestream)\n",
        "            rows = _read32(bytestream)\n",
        "            cols = _read32(bytestream)\n",
        "            buf = bytestream.read(rows * cols * num_images)\n",
        "            data = np.frombuffer(buf,dtype=np.uint8)\n",
        "            data = data.reshape(num_images,rows,cols,1)\n",
        "            return data\n",
        "    \n",
        "    def extract_labels(f):\n",
        "        print('Extracting', f.name)\n",
        "        with gzip.GzipFile(fileobj=f) as bytestream:\n",
        "            magic = _read32(bytestream)\n",
        "            num_items = _read32(bytestream)\n",
        "            buf = bytestream.read(num_items)\n",
        "            labels = np.frombuffer(buf, dtype=np.uint8)\n",
        "            return labels\n",
        "\n",
        "    #data_dir = \"./data\"\n",
        "    data_dir = \"\"\n",
        "    TRAIN_IMAGES = os.path.join(data_dir,'train-images-idx3-ubyte.gz')\n",
        "    with open(TRAIN_IMAGES,\"rb\") as f:\n",
        "        train_images = extract_images(f)\n",
        "\n",
        "    TRAIN_LABELS =  os.path.join(data_dir,'train-labels-idx1-ubyte.gz')\n",
        "    with open(TRAIN_LABELS,\"rb\") as f:\n",
        "        train_labels = extract_labels(f)\n",
        "\n",
        "    TEST_IMAGES =  os.path.join(data_dir,'t10k-images-idx3-ubyte.gz')\n",
        "    with open(TEST_IMAGES,\"rb\") as f:\n",
        "        test_images = extract_images(f)\n",
        "\n",
        "    TEST_LABELS =  os.path.join(data_dir,'t10k-labels-idx1-ubyte.gz')\n",
        "    with open(TEST_LABELS,\"rb\") as f:\n",
        "        test_labels = extract_labels(f)\n",
        "\n",
        "    # split train and val\n",
        "    train_images = train_images[validation_size:]\n",
        "    train_labels = train_labels[validation_size:]\n",
        "\n",
        "    # preprocessing\n",
        "    train_images = train_images.astype(np.float32) / 255\n",
        "    test_images  = test_images.astype(np.float32) / 255\n",
        "    \n",
        "    # reshape for logistic regression\n",
        "    train_images = np.reshape(train_images, [train_images.shape[0], -1])\n",
        "    test_images = np.reshape(test_images, [test_images.shape[0], -1])\n",
        "    return train_images,train_labels,test_images,test_labels\n",
        "\n",
        "def load_data_two_class(dataset_name,va_ratio):\n",
        "  x_train,y_train,x_test,y_test = load_mnist()\n",
        "  pos_class = 1\n",
        "  neg_class = 7\n",
        "  x_train,y_train = filter_dataset(x_train,y_train,pos_class,neg_class)\n",
        "  x_va,y_va = filter_dataset(x_test,y_test,pos_class,neg_class)\n",
        "  y_va = y_va.astype(int)\n",
        "  y_train = y_train.astype(int)\n",
        "\n",
        "  num_va_sample = int((1-va_ratio) * x_train.shape[0])\n",
        "  x_val = x_train[num_va_sample:]\n",
        "  y_val = y_train[num_va_sample:]\n",
        "  x_train = x_train[:num_va_sample]\n",
        "  y_train = y_train[:num_va_sample]\n",
        "  x_te = x_va\n",
        "  y_te = y_va\n",
        "\n",
        "  return x_train,y_train,x_val,y_val,x_te,y_te\n",
        "\n",
        "\n",
        "def filter_dataset(X, Y, pos_class, neg_class, mode=None):\n",
        "    \n",
        "    \"\"\"\n",
        "    Filters out elements of X and Y that aren't one of pos_class or neg_class\n",
        "    then transforms labels of Y so that +1 = pos_class, -1 = neg_class.\n",
        "\n",
        "    They are all 10-classes image classification data sets while Logistic regression can only handle binary classification. we\n",
        "    select the number 1 and 7 as positive and negative classes;\n",
        "    \"\"\"\n",
        "\n",
        "    assert(X.shape[0] == Y.shape[0])\n",
        "    assert(len(Y.shape) == 1)\n",
        "\n",
        "    Y = Y.astype(int)\n",
        "    \n",
        "    pos_idx = Y == pos_class\n",
        "    neg_idx = Y == neg_class        \n",
        "    Y[pos_idx] = 1\n",
        "    Y[neg_idx] = -1\n",
        "    idx_to_keep = pos_idx | neg_idx\n",
        "    X = X[idx_to_keep, ...]\n",
        "    Y = Y[idx_to_keep]\n",
        "    if Y.min() == -1 and mode != \"svm\":\n",
        "        Y = (Y + 1) / 2\n",
        "        Y.astype(int)\n",
        "    return (X, Y)\n",
        "\n",
        "# load data, pick 30% as the Va set\n",
        "x_train,y_train,x_va,y_va,x_te,y_te = load_data_two_class(dataset_name,va_ratio=0.3)\n",
        "\n",
        "\n",
        "\n",
        "print(\"x_train, nr sample {}, nr feature {}\".format(x_train.shape[0],x_train.shape[1]))\n",
        "print(\"x_va,    nr sample {}, nr feature {}\".format(x_va.shape[0],x_va.shape[1]))\n",
        "print(\"x_te,    nr sample {}, nr feature {}\".format(x_te.shape[0],x_te.shape[1]))\n",
        "print(\"Tr: Pos {} Neg {}\".format(y_train[y_train==1].shape[0],y_train[y_train==0].shape[0]))\n",
        "print(\"Va: Pos {} Neg {}\".format(y_va[y_va==1].shape[0],y_va[y_va==0].shape[0]))\n",
        "print(\"Te: Pos {} Neg {}\".format(y_te[y_te==1].shape[0],y_te[y_te==0].shape[0]))"
      ]
    },
    {
      "cell_type": "markdown",
      "metadata": {
        "id": "eIS_ygsKtHM2"
      },
      "source": [
        "# 2. **Flip labels for some of the images to make the data noisy so that we can show how our method discrad these kind of noisy data hence flipping the labels of some data in below code**"
      ]
    },
    {
      "cell_type": "code",
      "execution_count": 5,
      "metadata": {
        "id": "KZ26meoM1HAF"
      },
      "outputs": [],
      "source": [
        "# get the subset samples number\n",
        "num_tr_sample = x_train.shape[0]\n",
        "sample_ratio = 0.6\n",
        "obj_sample_size = int(sample_ratio * num_tr_sample)\n",
        "\n",
        "\n",
        "\"\"\"\n",
        "# Our unweighted method can downweight the bad cases which cause high test loss to the our model, which is an important reason of its ability to improve result with less data.\n",
        "To show the performance of our methods in noisy label situation, we perform addtional experiments with some training\n",
        "labels being flipped. The results show the enlarging superiority of our subsampling methods \n",
        "\"\"\"\n",
        "\n",
        "# flip labels\n",
        "idxs = np.arange(y_train.shape[0])\n",
        "flip_ratio = 0.4\n",
        "np.random.shuffle(idxs)\n",
        "num_flip = int(flip_ratio * len(idxs))\n",
        "y_train[idxs[:num_flip]] = np.logical_xor(np.ones(num_flip), y_train[idxs[:num_flip]]).astype(int)"
      ]
    },
    {
      "cell_type": "markdown",
      "metadata": {
        "id": "65j1_ru2txsq"
      },
      "source": [
        "# 3. **Training model on the full data set (ˆθ on the full Tr)**"
      ]
    },
    {
      "cell_type": "code",
      "execution_count": 6,
      "metadata": {
        "colab": {
          "base_uri": "https://localhost:8080/"
        },
        "id": "AvhPW3cFtx89",
        "outputId": "f1d95a8b-d2b2-4e82-dc79-9cee9d8e41ec"
      },
      "outputs": [
        {
          "name": "stdout",
          "output_type": "stream",
          "text": [
            "[LibLinear]iter  1 act 1.784e+01 pre 1.766e+01 delta 2.238e-01 f 5.770e+02 |g| 2.249e+02 CG   4\n",
            "cg reaches trust region boundary\n",
            "iter  2 act 1.948e+00 pre 1.946e+00 delta 2.357e-01 f 5.592e+02 |g| 2.199e+01 CG   4\n",
            "cg reaches trust region boundary\n",
            "iter  3 act 2.042e+00 pre 2.040e+00 delta 3.111e-01 f 5.573e+02 |g| 2.639e+01 CG   5\n",
            "cg reaches trust region boundary\n",
            "iter  4 act 1.871e+00 pre 1.869e+00 delta 4.825e-01 f 5.552e+02 |g| 1.447e+01 CG   5\n",
            "cg reaches trust region boundary\n",
            "iter  5 act 1.743e+00 pre 1.738e+00 delta 5.484e-01 f 5.533e+02 |g| 1.329e+01 CG   6\n",
            "cg reaches trust region boundary\n",
            "iter  6 act 1.800e+00 pre 1.791e+00 delta 6.828e-01 f 5.516e+02 |g| 1.205e+01 CG   7\n",
            "cg reaches trust region boundary\n",
            "iter  7 act 1.148e+00 pre 1.147e+00 delta 7.735e-01 f 5.498e+02 |g| 1.293e+01 CG   8\n",
            "iter  8 act 5.453e-01 pre 5.448e-01 delta 7.735e-01 f 5.487e+02 |g| 5.447e+00 CG  16\n",
            "iter  9 act 1.441e-02 pre 1.441e-02 delta 7.735e-01 f 5.481e+02 |g| 5.371e-01 CG  25\n",
            "iter 10 act 1.435e-04 pre 1.435e-04 delta 7.735e-01 f 5.481e+02 |g| 4.869e-02 CG  27\n",
            "iter 11 act 7.211e-07 pre 7.211e-07 delta 7.735e-01 f 5.481e+02 |g| 4.112e-03 CG  25\n",
            "iter 12 act 7.139e-09 pre 7.136e-09 delta 7.735e-01 f 5.481e+02 |g| 3.614e-04 CG  27\n",
            "iter 13 act 3.251e-11 pre 3.545e-11 delta 7.735e-01 f 5.481e+02 |g| 3.199e-05 CG  23\n",
            "WARNING: actred and prered too small\n",
            "[FullSet] Va logloss 0.525831\n",
            "[FullSet] Te logloss 0.522210\n"
          ]
        }
      ],
      "source": [
        "\n",
        "# define the full-set-model \n",
        "\n",
        "\"\"\" \n",
        "model : logistic regression:\n",
        "C: Inverse of regularization strength. smaller values specify stronger regularization.\n",
        "fit_intercept: constant (a.k.a. bias or intercept) should be added to the decision function.\n",
        "tol: Tolerance for stopping criteria.\n",
        "solver: Algorithm to use in the optimization problem.For small datasets, ‘liblinear’ is a good choice\n",
        "multi_class: ‘ovr’, then a binary problem is fit for each label.\n",
        "max_iterint: Maximum number of iterations taken for the solvers to converge\n",
        "\"\"\"\n",
        "\n",
        "clf = LogisticRegression(\n",
        "        C = C,\n",
        "        fit_intercept=False,\n",
        "        tol = 1e-8,\n",
        "        solver=\"liblinear\",\n",
        "        multi_class=\"ovr\",\n",
        "        max_iter=100,\n",
        "        warm_start=False,\n",
        "        verbose=1,\n",
        "        )\n",
        "\n",
        "clf.fit(x_train,y_train)\n",
        "\n",
        "# on Va\n",
        "\n",
        "y_va_pred = clf.predict_proba(x_va)[:,1] \n",
        "#predict_proba : Probability estimates. The returned estimates for all classes are ordered by the label of classes.\n",
        "full_logloss = log_loss(y_va,y_va_pred) \n",
        "#Log loss, aka logistic loss or cross-entropy loss. This is the loss function defined as the negative log-likelihood of a logistic model that returns y_pred probabilities for its training data y_true. \n",
        "#For a single sample with true label yt in {0,1} and estimated probability yp that yt = 1, the log loss is\n",
        "#-log P(yt|yp) = -(yt log(yp) + (1 - yt) log(1 - yp))\n",
        "weight_ar = clf.coef_.flatten() \n",
        "#Coefficient of the features in the decision function. coef_ is of shape (1, n_features) when the given problem is binary.\n",
        "\n",
        "# on Te\n",
        "\n",
        "y_te_pred = clf.predict_proba(x_te)[:,1]\n",
        "full_te_logloss = log_loss(y_te,y_te_pred)\n",
        "full_te_auc = roc_auc_score(y_te, y_te_pred)\n",
        "#The ROC curve is created by plotting the true positive rate (TPR) against the false positive rate (FPR) at various threshold settings.\n",
        "# The true-positive rate is also known as sensitivity, recall or probability of detection\n",
        "# The false-positive rate is also known as probability of false alarm \n",
        "# AUC measures how true positive rate (recall) and false positive rate trade off\n",
        "\n",
        "y_te_pred = clf.predict(x_te)\n",
        "full_te_acc = (y_te == y_te_pred).sum() / y_te.shape[0]\n",
        "\n",
        "\n",
        "# print full-set-model results\n",
        "print(\"[FullSet] Va logloss {:.6f}\".format(full_logloss))\n",
        "print(\"[FullSet] Te logloss {:.6f}\".format(full_te_logloss))"
      ]
    },
    {
      "cell_type": "markdown",
      "metadata": {
        "id": "HJ5h8v3kTwrh"
      },
      "source": [
        "# 4. **compute the influence function (IF) for each sample in training set**"
      ]
    },
    {
      "cell_type": "code",
      "execution_count": 7,
      "metadata": {
        "id": "UeP4tgowUNvS"
      },
      "outputs": [],
      "source": [
        "def grad_logloss_theta_lr(label,ypred,x,C=0.03,has_l2=True,scale_factor=1.0):\n",
        "    \"\"\"Return d l_i / d_theta = d l_i / d_ypred * d y_pred / d theta\n",
        "        grad_logloss_theta: gradient on the theta, shape: [n,]\n",
        "    \"\"\"\n",
        "    # The isinstance() function returns True if the specified object is of the specified type, otherwise False.\n",
        "    if not isinstance(label,np.ndarray) or not isinstance(ypred,np.ndarray):\n",
        "        label = np.array(label).flatten()\n",
        "        ypred = np.array(ypred).flatten()\n",
        "\n",
        "\n",
        "    grad_logloss_theta = C * x.T.dot(ypred-label)\n",
        "\n",
        "    return scale_factor * grad_logloss_theta\n",
        "\n",
        "def batch_grad_logloss_lr(label,ypred,x,C=0.03,scale_factor=1.0):\n",
        "    \"\"\"Return gradient on a batch.\n",
        "        batch_grad: gradient of each sample on parameters,\n",
        "            has shape [None,n]\n",
        "    \"\"\"\n",
        "    diffs = ypred - label\n",
        "    if isinstance(x,np.ndarray):\n",
        "        diffs = diffs.reshape(-1,1)\n",
        "        batch_grad = x * diffs\n",
        "    else:\n",
        "        diffs = sparse.diags(diffs)\n",
        "        batch_grad = x.T.dot(diffs).T\n",
        "    batch_grad = sparse.csr_matrix(C * batch_grad)      \n",
        "    return scale_factor * batch_grad"
      ]
    },
    {
      "cell_type": "code",
      "execution_count": 10,
      "metadata": {
        "id": "IhBwAgki1HAU"
      },
      "outputs": [
        {
          "name": "stdout",
          "output_type": "stream",
          "text": [
            "(8325, 784)\n",
            "(8325,)\n",
            "(8325,)\n",
            "(784,)\n",
            "0.1\n",
            "(784,)\n",
            "0.00012012012012012013\n",
            "Succeed in getting the inverse of preconditioner M.\n",
            "iter 0 cg iter 0 iter_diff 4305.735512646801\n"
          ]
        },
        {
          "name": "stderr",
          "output_type": "stream",
          "text": [
            "/home/pnans/Documents/GitHub/Unweighted-Data-Subsampling-via-Influence-Function/inverse_hvp.py:146: OptimizeWarning: Unknown solver options: preconditioner\n",
            "  fmin_results = fmin_ncg(f=fmin_loss_fn,\n"
          ]
        },
        {
          "name": "stdout",
          "output_type": "stream",
          "text": [
            "Function value: -360480.4532690004\n",
            "Split function value: 363857.5355531955, -724337.9888221959\n",
            "iter 1 cg iter 0 iter_diff 994.9107666369654\n",
            "Function value: -402211.57174907194\n",
            "Split function value: 372196.4301940192, -774408.0019430912\n",
            "iter 2 cg iter 0 iter_diff 480.3468302419942\n",
            "Function value: -437606.79833226895\n",
            "Split function value: 439776.61213072226, -877383.4104629912\n",
            "iter 3 cg iter 0 iter_diff 203.96676376517718\n",
            "iter 3 cg iter 10 iter_diff 103.06986903307417\n",
            "Function value: -469177.5246129272\n",
            "Split function value: 476194.82317021757, -945372.3477831448\n",
            "iter 4 cg iter 0 iter_diff 79.42536795709998\n",
            "iter 4 cg iter 10 iter_diff 46.498857427336254\n",
            "Function value: -475866.23644338455\n",
            "Split function value: 465757.77973365155, -941624.0161770361\n",
            "iter 5 cg iter 0 iter_diff 33.34395773833848\n",
            "iter 5 cg iter 10 iter_diff 16.0987010186897\n",
            "Function value: -476560.76464876404\n",
            "Split function value: 473982.8922486623, -950543.6568974264\n",
            "iter 6 cg iter 0 iter_diff 16.098701018689077\n",
            "iter 6 cg iter 10 iter_diff 10.339522391149817\n",
            "Function value: -476817.94054725685\n",
            "Split function value: 476369.62417307135, -953187.5647203282\n",
            "iter 7 cg iter 0 iter_diff 5.8069878465661855\n",
            "Function value: -476835.51161267306\n",
            "Split function value: 476488.94168038666, -953324.4532930597\n",
            "iter 8 cg iter 0 iter_diff 2.207735779429986\n",
            "iter 8 cg iter 10 iter_diff 2.2667747643270237\n",
            "Function value: -476841.3134901144\n",
            "Split function value: 476897.10139419185, -953738.4148843063\n",
            "iter 9 cg iter 0 iter_diff 1.0570202251841785\n",
            "iter 9 cg iter 10 iter_diff 0.48117183730579327\n",
            "Function value: -476842.2813511372\n",
            "Split function value: 476761.99276343803, -953604.2741145752\n",
            "iter 10 cg iter 0 iter_diff 0.4811718373069077\n",
            "iter 10 cg iter 10 iter_diff 0.36347655073304075\n",
            "Function value: -476842.65113994473\n",
            "Split function value: 476862.51510785293, -953705.1662477977\n",
            "iter 11 cg iter 0 iter_diff 0.19879928522084192\n",
            "Function value: -476842.6665751763\n",
            "Split function value: 476848.6729853306, -953691.3395605069\n",
            "iter 12 cg iter 0 iter_diff 0.07384474105934571\n",
            "iter 12 cg iter 10 iter_diff 0.033391345950662815\n",
            "Function value: -476842.6725223932\n",
            "Split function value: 476840.8637468419, -953683.5362692351\n",
            "iter 13 cg iter 0 iter_diff 0.017922565293669007\n",
            "iter 13 cg iter 10 iter_diff 0.021166967018107743\n",
            "iter 13 cg iter 20 iter_diff 0.003109780931759696\n",
            "Function value: -476842.6731416618\n",
            "Split function value: 476842.43528704764, -953685.1084287094\n",
            "iter 14 cg iter 0 iter_diff 0.00146866034242501\n",
            "iter 14 cg iter 10 iter_diff 0.00044819104212612525\n",
            "iter 14 cg iter 20 iter_diff 0.0003501297024604792\n",
            "Function value: -476842.67314456776\n",
            "Split function value: 476842.67331056437, -953685.3464551321\n",
            "iter 15 cg iter 0 iter_diff 4.101644814237675e-05\n",
            "iter 15 cg iter 10 iter_diff 1.6946023245622383e-05\n",
            "iter 15 cg iter 20 iter_diff 1.1025520516437915e-05\n",
            "Function value: -476842.6731445708\n",
            "Split function value: 476842.67337663425, -953685.346521205\n",
            "iter 16 cg iter 0 iter_diff 6.044899767364521e-06\n",
            "iter 16 cg iter 10 iter_diff 3.6240777932306504e-06\n",
            "Function value: -476842.673144571\n",
            "Split function value: 476842.6732926832, -953685.3464372542\n",
            "Optimization terminated successfully.\n",
            "         Current function value: -476842.673145\n",
            "         Iterations: 17\n",
            "         Function evaluations: 81\n",
            "         Gradient evaluations: 94\n",
            "         Hessian evaluations: 211\n",
            "Inverse HVP took 21.1 sec\n",
            "============================================================\n",
            "IF(influence function) Stats: mean -1.3193588941, max 748.7852101516, min -983.3977022934\n"
          ]
        }
      ],
      "source": [
        "# building precoditioner\n",
        "test_grad_loss_val = grad_logloss_theta_lr(y_va,y_va_pred,x_va,C,0.1/(num_tr_sample*C))  #Return d l_i / d_theta\n",
        "\n",
        "tr_pred = clf.predict_proba(x_train)[:,1]\n",
        "batch_size = 10000\n",
        "M = None\n",
        "total_batch = int(np.ceil(num_tr_sample / float(batch_size)))\n",
        "\n",
        "for idx in range(total_batch):\n",
        "    batch_tr_grad = batch_grad_logloss_lr(y_train[idx*batch_size:(idx+1)*batch_size],\n",
        "        tr_pred[idx*batch_size:(idx+1)*batch_size],\n",
        "        x_train[idx*batch_size:(idx+1)*batch_size],\n",
        "        C,\n",
        "        1.0)\n",
        "\n",
        "    sum_grad = batch_tr_grad.multiply(x_train[idx*batch_size:(idx+1)*batch_size]).sum(0)\n",
        "    if M is None:\n",
        "        M = sum_grad\n",
        "    else:\n",
        "        M = M + sum_grad       \n",
        "M = M + 0.1/(num_tr_sample*C) * np.ones(x_train.shape[1])\n",
        "M = np.array(M).flatten()\n",
        "\n",
        "# computing the inverse Hessian-vector-product\n",
        "#The Hessian Matrix is a square matrix of second ordered partial derivatives of a scalar function.\n",
        "#It is of immense use in linear algebra as well as for determining points of local maxima or minima\n",
        "print(x_train.shape)\n",
        "print(y_train.shape)\n",
        "print(tr_pred.shape)\n",
        "print(test_grad_loss_val.shape)\n",
        "print(C)\n",
        "print(M.shape)\n",
        "print(0.1/(num_tr_sample*C))\n",
        "\n",
        "\n",
        "iv_hvp = inverse_hvp_lr_newtonCG(x_train,y_train,tr_pred,test_grad_loss_val,C,True,1e-5,True,M,0.1/(num_tr_sample*C))\n",
        "\n",
        "# get influence score\n",
        "total_batch = int(np.ceil(x_train.shape[0] / float(batch_size)))\n",
        "predicted_loss_diff = []\n",
        "for idx in range(total_batch):\n",
        "    train_grad_loss_val = batch_grad_logloss_lr(y_train[idx*batch_size:(idx+1)*batch_size],\n",
        "        tr_pred[idx*batch_size:(idx+1)*batch_size],\n",
        "        x_train[idx*batch_size:(idx+1)*batch_size],\n",
        "        C,\n",
        "        1.0)\n",
        "    predicted_loss_diff.extend(np.array(train_grad_loss_val.dot(iv_hvp)).flatten())    \n",
        "predicted_loss_diffs = np.asarray(predicted_loss_diff)\n",
        "\n",
        "print(\"==\"*30)\n",
        "print(\"IF(influence function) Stats: mean {:.10f}, max {:.10f}, min {:.10f}\".format(\n",
        "    predicted_loss_diffs.mean(), predicted_loss_diffs.max(), predicted_loss_diffs.min())\n",
        ")"
      ]
    },
    {
      "cell_type": "markdown",
      "metadata": {
        "id": "ACmwNiFGmlJG"
      },
      "source": [
        "# **5.compute the sampling probability of each sample in training set**"
      ]
    },
    {
      "cell_type": "code",
      "execution_count": 28,
      "metadata": {
        "id": "RBSf9aEgm1mb"
      },
      "outputs": [],
      "source": [
        "def select_from_one_class(y_train,prob_pi,label,ratio):\n",
        "    # select positive and negative samples respectively\n",
        "    num_sample = y_train[y_train==label].shape[0]\n",
        "    all_idx = np.arange(y_train.shape[0])[y_train==label]\n",
        "    label_prob_pi = prob_pi[all_idx]\n",
        "    obj_sample_size = int(ratio * num_sample)\n",
        "\n",
        "    sb_idx = None\n",
        "    iteration = 0\n",
        "    while True:\n",
        "        rand_prob = np.random.rand(num_sample)\n",
        "        iter_idx = all_idx[rand_prob < label_prob_pi]\n",
        "        if sb_idx is None:\n",
        "            sb_idx = iter_idx\n",
        "        else:\n",
        "            new_idx = np.setdiff1d(iter_idx, sb_idx)\n",
        "            diff_size = obj_sample_size - sb_idx.shape[0]\n",
        "            if new_idx.shape[0] < diff_size:\n",
        "                sb_idx = np.union1d(iter_idx, sb_idx)\n",
        "            else:\n",
        "                new_idx = np.random.choice(new_idx, diff_size, replace=False)\n",
        "                sb_idx = np.union1d(sb_idx, new_idx)\n",
        "        iteration += 1\n",
        "        if sb_idx.shape[0] >= obj_sample_size:\n",
        "            sb_idx = np.random.choice(sb_idx,obj_sample_size,replace=False)\n",
        "            return sb_idx\n",
        "\n",
        "        if iteration > 100:\n",
        "            diff_size = obj_sample_size - sb_idx.shape[0]\n",
        "            leave_idx = np.setdiff1d(all_idx, sb_idx)\n",
        "            # left samples are sorted by their IF\n",
        "            # leave_idx = leave_idx[np.argsort(prob_pi[leave_idx])[-diff_size:]]\n",
        "            leave_idx = np.random.choice(leave_idx,diff_size,replace=False)\n",
        "            sb_idx = np.union1d(sb_idx, leave_idx)\n",
        "            return sb_idx"
      ]
    },
    {
      "cell_type": "code",
      "execution_count": 29,
      "metadata": {
        "colab": {
          "base_uri": "https://localhost:8080/"
        },
        "id": "ZND6k2RY1HAf",
        "outputId": "904bf4b3-964b-4903-99fb-92a506dc0beb"
      },
      "outputs": [
        {
          "name": "stdout",
          "output_type": "stream",
          "text": [
            "Pi Stats: [0.08010065 0.1627333  0.66298381 0.79176391 0.8593959 ]\n"
          ]
        }
      ],
      "source": [
        "# build sampling probability\n",
        "\n",
        "sigmoid_k = 10  # parameter for the sigmoid sampling function\n",
        "phi_ar = - predicted_loss_diffs\n",
        "IF_interval = phi_ar.max() - phi_ar.min()\n",
        "a_param = sigmoid_k / IF_interval\n",
        "prob_pi = 1 / (1 + np.exp(a_param * phi_ar))\n",
        "print(\"Pi Stats:\",np.percentile(prob_pi,[10,25,50,75,90]))"
      ]
    },
    {
      "cell_type": "markdown",
      "metadata": {
        "id": "YJQYsVTynHWT"
      },
      "source": [
        "# **6. Do subsampling**"
      ]
    },
    {
      "cell_type": "code",
      "execution_count": 30,
      "metadata": {
        "id": "qThZ8V7snHvD"
      },
      "outputs": [],
      "source": [
        "pos_idx = select_from_one_class(y_train,prob_pi,1,sample_ratio)\n",
        "neg_idx = select_from_one_class(y_train,prob_pi,0,sample_ratio)\n",
        "sb_idx = np.union1d(pos_idx,neg_idx)\n",
        "sb_x_train = x_train[sb_idx]\n",
        "sb_y_train = y_train[sb_idx]"
      ]
    },
    {
      "cell_type": "markdown",
      "metadata": {
        "id": "VYgx4f4lnVXo"
      },
      "source": [
        "# **7. train a subset-model on the reduced data set**"
      ]
    },
    {
      "cell_type": "code",
      "execution_count": 31,
      "metadata": {
        "colab": {
          "base_uri": "https://localhost:8080/"
        },
        "id": "3xTdpYUwnVgo",
        "outputId": "ec68939a-facb-4f8c-d323-e170900c5361"
      },
      "outputs": [
        {
          "name": "stdout",
          "output_type": "stream",
          "text": [
            "[LibLinear]iter  1 act 1.246e+02 pre 1.145e+02 delta 5.750e-01 f 3.462e+02 |g| 4.817e+02 CG   3\n",
            "cg reaches trust region boundary\n",
            "iter  2 act 1.454e+01 pre 1.312e+01 delta 6.991e-01 f 2.216e+02 |g| 8.830e+01 CG   4\n",
            "cg reaches trust region boundary\n",
            "iter  3 act 4.924e+00 pre 4.722e+00 delta 8.327e-01 f 2.070e+02 |g| 2.178e+01 CG   4\n",
            "cg reaches trust region boundary\n",
            "iter  4 act 3.154e+00 pre 3.148e+00 delta 9.560e-01 f 2.021e+02 |g| 1.198e+01 CG   5\n",
            "cg reaches trust region boundary\n",
            "iter  5 act 2.026e+00 pre 1.978e+00 delta 1.016e+00 f 1.990e+02 |g| 7.115e+00 CG   7\n",
            "iter  6 act 8.089e-01 pre 8.088e-01 delta 1.016e+00 f 1.969e+02 |g| 4.989e+00 CG  13\n",
            "iter  7 act 1.580e-02 pre 1.578e-02 delta 1.016e+00 f 1.961e+02 |g| 8.397e-01 CG  14\n",
            "iter  8 act 3.571e-04 pre 3.571e-04 delta 1.016e+00 f 1.961e+02 |g| 6.139e-02 CG  18\n",
            "iter  9 act 1.186e-06 pre 1.186e-06 delta 1.016e+00 f 1.961e+02 |g| 5.604e-03 CG  14\n",
            "iter 10 act 2.320e-08 pre 2.320e-08 delta 1.016e+00 f 1.961e+02 |g| 5.316e-04 CG  16\n",
            "iter 11 act 1.363e-10 pre 1.357e-10 delta 1.016e+00 f 1.961e+02 |g| 4.436e-05 CG  16\n",
            "WARNING: actred and prered too small\n"
          ]
        }
      ],
      "source": [
        "clf.fit(sb_x_train,sb_y_train)\n",
        "y_va_pred = clf.predict_proba(x_va)[:,1]\n",
        "sb_logloss = log_loss(y_va, y_va_pred)\n",
        "sb_weight = clf.coef_.flatten()\n",
        "diff_w_norm = np.linalg.norm(weight_ar - sb_weight)\n",
        "sb_size = sb_x_train.shape[0]\n",
        "y_te_pred = clf.predict_proba(x_te)[:,1]\n",
        "sb_te_logloss = log_loss(y_te,y_te_pred)\n",
        "sb_te_auc = roc_auc_score(y_te, y_te_pred)\n",
        "y_te_pred = clf.predict(x_te)\n",
        "sb_te_acc = (y_te == y_te_pred).sum() / y_te.shape[0]"
      ]
    },
    {
      "cell_type": "markdown",
      "metadata": {
        "id": "7ZgVvIwhniJ2"
      },
      "source": [
        "## **For comparison doing general method of subsampling i.e random subsampling**"
      ]
    },
    {
      "cell_type": "code",
      "execution_count": 32,
      "metadata": {
        "colab": {
          "base_uri": "https://localhost:8080/"
        },
        "id": "ns02r4Ldnhjm",
        "outputId": "37961b9e-9d29-4813-9fe6-479c0d9a384b"
      },
      "outputs": [
        {
          "name": "stdout",
          "output_type": "stream",
          "text": [
            "[LibLinear]iter  1 act 1.276e+01 pre 1.258e+01 delta 4.898e-01 f 3.462e+02 |g| 1.361e+02 CG   5\n",
            "cg reaches trust region boundary\n",
            "iter  2 act 2.358e+00 pre 2.373e+00 delta 5.391e-01 f 3.335e+02 |g| 1.261e+01 CG   5\n",
            "cg reaches trust region boundary\n",
            "iter  3 act 2.198e+00 pre 2.183e+00 delta 6.885e-01 f 3.311e+02 |g| 1.069e+01 CG   6\n",
            "cg reaches trust region boundary\n",
            "iter  4 act 1.393e+00 pre 1.391e+00 delta 7.241e-01 f 3.289e+02 |g| 6.927e+00 CG   7\n",
            "cg reaches trust region boundary\n",
            "iter  5 act 1.037e+00 pre 1.031e+00 delta 7.585e-01 f 3.275e+02 |g| 7.856e+00 CG   9\n",
            "iter  6 act 2.424e-01 pre 2.424e-01 delta 7.585e-01 f 3.265e+02 |g| 4.735e+00 CG  14\n",
            "iter  7 act 7.395e-03 pre 7.395e-03 delta 7.585e-01 f 3.262e+02 |g| 3.683e-01 CG  20\n",
            "iter  8 act 5.608e-05 pre 5.608e-05 delta 7.585e-01 f 3.262e+02 |g| 3.337e-02 CG  22\n",
            "iter  9 act 3.056e-07 pre 3.056e-07 delta 7.585e-01 f 3.262e+02 |g| 2.430e-03 CG  19\n",
            "iter 10 act 4.799e-09 pre 4.799e-09 delta 7.585e-01 f 3.262e+02 |g| 2.403e-04 CG  21\n",
            "iter 11 act 2.581e-11 pre 2.438e-11 delta 7.585e-01 f 3.262e+02 |g| 2.216e-05 CG  18\n",
            "WARNING: actred and prered too small\n"
          ]
        }
      ],
      "source": [
        "# baseline model: random sampling\n",
        "\n",
        "u_idxs = np.arange(x_train.shape[0])\n",
        "uniform_idxs = np.random.choice(u_idxs,obj_sample_size,replace=False)\n",
        "us_x_train = x_train[uniform_idxs]\n",
        "us_y_train = y_train[uniform_idxs]\n",
        "clf.fit(us_x_train, us_y_train)\n",
        "y_va_pred = clf.predict_proba(x_va)[:,1]\n",
        "us_logloss = log_loss(y_va, y_va_pred)\n",
        "us_size = us_x_train.shape[0]\n",
        "y_te_pred = clf.predict_proba(x_te)[:,1]\n",
        "us_te_logloss = log_loss(y_te,y_te_pred)\n",
        "us_te_auc = roc_auc_score(y_te, y_te_pred)\n",
        "y_te_pred = clf.predict(x_te)\n",
        "us_te_acc = (y_te == y_te_pred).sum() / y_te.shape[0]"
      ]
    },
    {
      "cell_type": "markdown",
      "metadata": {
        "id": "uTr5jkwnny2X"
      },
      "source": [
        "## **Result for comparision**\n",
        "## can be seen that our sigmoid UIDS log loss is much less as compared to random subsampling and full datset trained log loss"
      ]
    },
    {
      "cell_type": "code",
      "execution_count": 33,
      "metadata": {
        "colab": {
          "base_uri": "https://localhost:8080/"
        },
        "id": "dipLlzO7ntdY",
        "outputId": "139c49fc-6131-48c4-90c7-6894f04ee991"
      },
      "outputs": [
        {
          "name": "stdout",
          "output_type": "stream",
          "text": [
            "============================================================\n",
            "Result Summary on Va\n",
            "[UIDS]  logloss 0.162497, # 4994\n",
            "[Random]   logloss 0.527064, # 4995\n",
            "[Full]     logloss 0.525831, # 8325\n",
            "Result Summary on Te\n",
            "[UIDS]  logloss 0.176543, # 4994\n",
            "[Random]   logloss 0.524031, # 4995\n",
            "[Full]     logloss 0.522210, # 8325\n",
            "============================================================\n"
          ]
        }
      ],
      "source": [
        "print(\"==\"*30)\n",
        "print(\"Result Summary on Va\")\n",
        "print(\"[UIDS]  logloss {:.6f}, # {}\".format(sb_logloss,sb_size))\n",
        "print(\"[Random]   logloss {:.6f}, # {}\".format(us_logloss,us_size))\n",
        "print(\"[Full]     logloss {:.6f}, # {}\".format(full_logloss,num_tr_sample))\n",
        "\n",
        "print(\"Result Summary on Te\")\n",
        "print(\"[UIDS]  logloss {:.6f}, # {}\".format(sb_te_logloss,sb_size))\n",
        "print(\"[Random]   logloss {:.6f}, # {}\".format(us_te_logloss,us_size))\n",
        "print(\"[Full]     logloss {:.6f}, # {}\".format(full_te_logloss,num_tr_sample))\n",
        "print(\"==\"*30)\n",
        "# Attention: if the dataset used here is small, one experiment may fail because of uncertainty of subsampling!"
      ]
    },
    {
      "cell_type": "markdown",
      "metadata": {
        "id": "4a6XxWsMo3xZ"
      },
      "source": [
        "## **Comparision of test accuracy on our UIDS technique , random subsamping and full dataset**"
      ]
    },
    {
      "cell_type": "code",
      "execution_count": 34,
      "metadata": {
        "colab": {
          "base_uri": "https://localhost:8080/"
        },
        "id": "lwEqkYG01HAl",
        "outputId": "7fe0c145-150a-4392-c392-9f98efa914b6"
      },
      "outputs": [
        {
          "name": "stdout",
          "output_type": "stream",
          "text": [
            "============================================================\n",
            "Result Summary on Te (ACC and AUC)\n",
            "[UIDS]  acc 0.984281, auc 0.998802 # 4994\n",
            "[Random]   acc 0.900139, auc 0.950359 # 4995\n",
            "[Full]     acc 0.916782, auc 0.961824 # 8325\n",
            "============================================================\n"
          ]
        }
      ],
      "source": [
        "print(\"==\"*30)\n",
        "print(\"Result Summary on Te (ACC and AUC)\")\n",
        "print(\"[UIDS]  acc {:.6f}, auc {:.6f} # {}\".format(sb_te_acc,sb_te_auc, sb_size))\n",
        "print(\"[Random]   acc {:.6f}, auc {:.6f} # {}\".format(us_te_acc,us_te_auc, us_size))\n",
        "print(\"[Full]     acc {:.6f}, auc {:.6f} # {}\".format(full_te_acc,full_te_auc, num_tr_sample))\n",
        "print(\"==\"*30)"
      ]
    },
    {
      "cell_type": "markdown",
      "metadata": {},
      "source": [
        "## **Trying Stuff with LIME**"
      ]
    },
    {
      "cell_type": "code",
      "execution_count": 35,
      "metadata": {},
      "outputs": [
        {
          "name": "stdout",
          "output_type": "stream",
          "text": [
            "(8325, 784)\n",
            "(8325,)\n",
            "(3569, 784)\n",
            "(3569,)\n",
            "(2163, 784)\n",
            "(2163,)\n"
          ]
        }
      ],
      "source": [
        "#x_train,y_train,x_va,y_va,x_te,y_te\n",
        "print(x_train.shape)\n",
        "print(y_train.shape)\n",
        "print(x_va.shape)\n",
        "print(y_va.shape)\n",
        "print(x_te.shape)\n",
        "print(y_te.shape)"
      ]
    },
    {
      "cell_type": "code",
      "execution_count": 37,
      "metadata": {},
      "outputs": [
        {
          "name": "stdout",
          "output_type": "stream",
          "text": [
            "(38500, 28, 28, 3)\n",
            "(8325,)\n",
            "(31500, 28, 28, 3)\n",
            "(31500,)\n"
          ]
        }
      ],
      "source": [
        "print(X_train.shape)\n",
        "print(y_train.shape)\n",
        "print(X_test.shape)\n",
        "print(y_test.shape)"
      ]
    },
    {
      "cell_type": "code",
      "execution_count": 1,
      "metadata": {},
      "outputs": [],
      "source": [
        "import numpy as np\n",
        "import matplotlib.pyplot as plt\n",
        "from skimage.color import gray2rgb, rgb2gray, label2rgb"
      ]
    },
    {
      "cell_type": "code",
      "execution_count": 3,
      "metadata": {},
      "outputs": [],
      "source": [
        "from sklearn.datasets import fetch_openml\n",
        "mnist = fetch_openml('mnist_784')"
      ]
    },
    {
      "cell_type": "code",
      "execution_count": 5,
      "metadata": {},
      "outputs": [],
      "source": [
        "X_vec = np.stack([gray2rgb(iimg) for iimg in mnist.data.values.reshape((-1, 28, 28))],0).astype(np.uint8)\n",
        "y_vec = mnist.target.astype(np.uint8)"
      ]
    },
    {
      "cell_type": "code",
      "execution_count": 6,
      "metadata": {},
      "outputs": [
        {
          "data": {
            "text/plain": [
              "Text(0.5, 1.0, 'Digit: 5')"
            ]
          },
          "execution_count": 6,
          "metadata": {},
          "output_type": "execute_result"
        },
        {
          "data": {
            "image/png": "[encoded data removed]",
            "text/plain": [
              "<Figure size 432x288 with 1 Axes>"
            ]
          },
          "metadata": {
            "needs_background": "light"
          },
          "output_type": "display_data"
        }
      ],
      "source": [
        "%matplotlib inline\n",
        "fig, ax1 = plt.subplots(1,1)\n",
        "ax1.imshow(X_vec[0], interpolation = 'none')\n",
        "ax1.set_title('Digit: {}'.format(y_vec[0]))"
      ]
    },
    {
      "cell_type": "code",
      "execution_count": 7,
      "metadata": {},
      "outputs": [],
      "source": [
        "from sklearn.pipeline import Pipeline\n",
        "from sklearn.ensemble import RandomForestClassifier\n",
        "from sklearn.preprocessing import Normalizer\n",
        "\n",
        "class PipeStep(object):\n",
        "    \"\"\"\n",
        "    Wrapper for turning functions into pipeline transforms (no-fitting)\n",
        "    \"\"\"\n",
        "    def __init__(self, step_func):\n",
        "        self._step_func=step_func\n",
        "    def fit(self,*args):\n",
        "        return self\n",
        "    def transform(self,X):\n",
        "        return self._step_func(X)\n",
        "\n",
        "\n",
        "makegray_step = PipeStep(lambda img_list: [rgb2gray(img) for img in img_list])\n",
        "flatten_step = PipeStep(lambda img_list: [img.ravel() for img in img_list])\n",
        "\n",
        "simple_rf_pipeline = Pipeline([\n",
        "    ('Make Gray', makegray_step),\n",
        "    ('Flatten Image', flatten_step),\n",
        "    #('Normalize', Normalizer()),\n",
        "    #('PCA', PCA(16)),\n",
        "    ('RF', RandomForestClassifier())\n",
        "                              ])"
      ]
    },
    {
      "cell_type": "code",
      "execution_count": 8,
      "metadata": {},
      "outputs": [],
      "source": [
        "from sklearn.model_selection import train_test_split\n",
        "\n",
        "X_train, X_test, y_train, y_test = train_test_split(X_vec, y_vec,\n",
        "                                                    train_size=0.55)"
      ]
    },
    {
      "cell_type": "code",
      "execution_count": 9,
      "metadata": {},
      "outputs": [
        {
          "data": {
            "text/plain": [
              "Pipeline(steps=[('Make Gray', <__main__.PipeStep object at 0x7f28a66f2940>),\n",
              "                ('Flatten Image', <__main__.PipeStep object at 0x7f28a66bfaf0>),\n",
              "                ('RF', RandomForestClassifier())])"
            ]
          },
          "execution_count": 9,
          "metadata": {},
          "output_type": "execute_result"
        }
      ],
      "source": [
        "simple_rf_pipeline.fit(X_train, y_train)"
      ]
    },
    {
      "cell_type": "code",
      "execution_count": 10,
      "metadata": {},
      "outputs": [],
      "source": [
        "%load_ext autoreload\n",
        "%autoreload 2\n",
        "import os,sys\n",
        "try:\n",
        "    import lime\n",
        "except:\n",
        "    sys.path.append(os.path.join('..', '..')) # add the current directory\n",
        "    import lime"
      ]
    },
    {
      "cell_type": "code",
      "execution_count": 11,
      "metadata": {},
      "outputs": [],
      "source": [
        "from lime import lime_image\n",
        "from lime.wrappers.scikit_image import SegmentationAlgorithm\n",
        "explainer = lime_image.LimeImageExplainer(verbose = False)\n",
        "segmenter = SegmentationAlgorithm('quickshift', kernel_size=1, max_dist=200, ratio=0.2)"
      ]
    },
    {
      "cell_type": "code",
      "execution_count": 12,
      "metadata": {},
      "outputs": [
        {
          "data": {
            "application/vnd.jupyter.widget-view+json": {
              "model_id": "95f035472c3147eaa2b944d09947932b",
              "version_major": 2,
              "version_minor": 0
            },
            "text/plain": [
              "  0%|          | 0/10000 [00:00<?, ?it/s]"
            ]
          },
          "metadata": {},
          "output_type": "display_data"
        },
        {
          "name": "stdout",
          "output_type": "stream",
          "text": [
            "CPU times: user 30.4 s, sys: 2.54 s, total: 33 s\n",
            "Wall time: 28.9 s\n"
          ]
        }
      ],
      "source": [
        "%%time\n",
        "explanation = explainer.explain_instance(X_test[0], \n",
        "                                         classifier_fn = simple_rf_pipeline.predict_proba, \n",
        "                                         top_labels=10, hide_color=0, num_samples=10000, segmentation_fn=segmenter)"
      ]
    },
    {
      "cell_type": "code",
      "execution_count": 13,
      "metadata": {},
      "outputs": [
        {
          "data": {
            "text/plain": [
              "Text(0.5, 1.0, 'Positive/Negative Regions for 5')"
            ]
          },
          "execution_count": 13,
          "metadata": {},
          "output_type": "execute_result"
        },
        {
          "data": {
            "image/png": "[encoded data removed]",
            "text/plain": [
              "<Figure size 576x288 with 2 Axes>"
            ]
          },
          "metadata": {
            "needs_background": "light"
          },
          "output_type": "display_data"
        }
      ],
      "source": [
        "temp, mask = explanation.get_image_and_mask(y_test[0], positive_only=True, num_features=10, hide_rest=False, min_weight = 0.01)\n",
        "fig, (ax1, ax2) = plt.subplots(1,2, figsize = (8, 4))\n",
        "ax1.imshow(label2rgb(mask,temp, bg_label = 0), interpolation = 'nearest')\n",
        "ax1.set_title('Positive Regions for {}'.format(y_test[0]))\n",
        "temp, mask = explanation.get_image_and_mask(y_test[0], positive_only=False, num_features=10, hide_rest=False, min_weight = 0.01)\n",
        "ax2.imshow(label2rgb(3-mask,temp, bg_label = 0), interpolation = 'nearest')\n",
        "ax2.set_title('Positive/Negative Regions for {}'.format(y_test[0]))"
      ]
    },
    {
      "cell_type": "code",
      "execution_count": 14,
      "metadata": {},
      "outputs": [
        {
          "data": {
            "image/png": "[encoded data removed]",
            "text/plain": [
              "<Figure size 864x432 with 10 Axes>"
            ]
          },
          "metadata": {
            "needs_background": "light"
          },
          "output_type": "display_data"
        }
      ],
      "source": [
        "fig, m_axs = plt.subplots(2,5, figsize = (12,6))\n",
        "for i, c_ax in enumerate(m_axs.flatten()):\n",
        "    temp, mask = explanation.get_image_and_mask(i, positive_only=True, num_features=1000, hide_rest=False, min_weight = 0.01 )\n",
        "    c_ax.imshow(label2rgb(mask,X_test[0], bg_label = 0), interpolation = 'nearest')\n",
        "    c_ax.set_title('Positive for {}\\nActual {}'.format(i, y_test[0]))\n",
        "    c_ax.axis('off')"
      ]
    },
    {
      "cell_type": "markdown",
      "metadata": {},
      "source": [
        "  ## **Gaining Insight**\n"
      ]
    },
    {
      "cell_type": "code",
      "execution_count": 16,
      "metadata": {},
      "outputs": [
        {
          "name": "stdout",
          "output_type": "stream",
          "text": [
            "Using #4285 where the label was 7 and the pipeline predicted 2\n"
          ]
        }
      ],
      "source": [
        "pipe_pred_test = simple_rf_pipeline.predict(X_test)\n",
        "wrong_idx = np.random.choice(np.where(pipe_pred_test!=y_test)[0])\n",
        "print('Using #{} where the label was {} and the pipeline predicted {}'.format(wrong_idx, y_test[wrong_idx], pipe_pred_test[wrong_idx]))"
      ]
    },
    {
      "cell_type": "code",
      "execution_count": 17,
      "metadata": {},
      "outputs": [
        {
          "data": {
            "application/vnd.jupyter.widget-view+json": {
              "model_id": "8fc4e9a0926c4f0f91b091d73f25f888",
              "version_major": 2,
              "version_minor": 0
            },
            "text/plain": [
              "  0%|          | 0/10000 [00:00<?, ?it/s]"
            ]
          },
          "metadata": {},
          "output_type": "display_data"
        },
        {
          "name": "stdout",
          "output_type": "stream",
          "text": [
            "CPU times: user 25.7 s, sys: 1.3 s, total: 27 s\n",
            "Wall time: 24.4 s\n"
          ]
        }
      ],
      "source": [
        "%%time\n",
        "explanation = explainer.explain_instance(X_test[wrong_idx], \n",
        "                                         classifier_fn = simple_rf_pipeline.predict_proba, \n",
        "                                         top_labels=10, hide_color=0, num_samples=10000, segmentation_fn=segmenter)"
      ]
    },
    {
      "cell_type": "code",
      "execution_count": 18,
      "metadata": {},
      "outputs": [
        {
          "data": {
            "image/png": "[encoded data removed]",
            "text/plain": [
              "<Figure size 864x432 with 10 Axes>"
            ]
          },
          "metadata": {
            "needs_background": "light"
          },
          "output_type": "display_data"
        }
      ],
      "source": [
        "fig, m_axs = plt.subplots(2,5, figsize = (12,6))\n",
        "for i, c_ax in enumerate(m_axs.flatten()):\n",
        "    temp, mask = explanation.get_image_and_mask(i, positive_only=True, num_features=10, hide_rest=False, min_weight = 0.01 )\n",
        "    c_ax.imshow(label2rgb(mask,temp, bg_label = 0), interpolation = 'nearest')\n",
        "    c_ax.set_title('Positive for {}\\nActual {}'.format(i, y_test[wrong_idx]))\n",
        "    c_ax.axis('off')"
      ]
    },
    {
      "cell_type": "markdown",
      "metadata": {},
      "source": [
        "## **Subsampling for LIME**"
      ]
    },
    {
      "cell_type": "code",
      "execution_count": null,
      "metadata": {},
      "outputs": [],
      "source": []
    }
  ],
  "metadata": {
    "colab": {
      "collapsed_sections": [],
      "name": "Unweighted Data Subsampling via Influence Function.ipynb",
      "provenance": []
    },
    "kernelspec": {
      "display_name": "Python 3.8.8 ('base')",
      "language": "python",
      "name": "python3"
    },
    "language_info": {
      "codemirror_mode": {
        "name": "ipython",
        "version": 3
      },
      "file_extension": ".py",
      "mimetype": "text/x-python",
      "name": "python",
      "nbconvert_exporter": "python",
      "pygments_lexer": "ipython3",
      "version": "3.8.8"
    },
    "vscode": {
      "interpreter": {
        "hash": "86519fbbec93c191aacc49d4c33e96a49fd6ef772decd8151fefe193caa932bd"
      }
    }
  },
  "nbformat": 4,
  "nbformat_minor": 0
}
